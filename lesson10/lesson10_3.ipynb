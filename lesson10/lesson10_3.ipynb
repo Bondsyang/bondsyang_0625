{
 "cells": [
  {
   "cell_type": "code",
   "execution_count": null,
   "id": "fe2eaa0b",
   "metadata": {},
   "outputs": [],
   "source": [
    "## 類別\n",
    "## 實體"
   ]
  },
  {
   "cell_type": "code",
   "execution_count": null,
   "id": "17319348",
   "metadata": {},
   "outputs": [
    {
     "name": "stdout",
     "output_type": "stream",
     "text": [
      "<class 'list'>\n"
     ]
    }
   ],
   "source": [
    "my_list:list = [i for i in range(10)]\n",
    "print(type(my_list))\n",
    "#list的實體方法\n",
    "my_list.append(10)"
   ]
  },
  {
   "cell_type": "code",
   "execution_count": 18,
   "id": "5fccf244",
   "metadata": {},
   "outputs": [
    {
     "data": {
      "text/plain": [
       "[-1, 11]"
      ]
     },
     "execution_count": 18,
     "metadata": {},
     "output_type": "execute_result"
    }
   ],
   "source": [
    "#建立my_list常用的實體方法\n",
    "my_list.clear()  # 清空list\n",
    "my_list\n",
    "my_list.append(10)  # 在list後面加入元素\n",
    "my_list\n",
    "my_list.extend([11, 12])  # 在list後面加入多個元素\n",
    "my_list\n",
    "my_list.insert(0, -1)  # 在list的前面加入元素\n",
    "my_list\n",
    "my_list.remove(10)  # 移除list中的元素\n",
    "my_list\n",
    "my_list.pop()  # 移除list最後一個元素\n",
    "my_list\n"
   ]
  }
 ],
 "metadata": {
  "kernelspec": {
   "display_name": "base",
   "language": "python",
   "name": "python3"
  },
  "language_info": {
   "codemirror_mode": {
    "name": "ipython",
    "version": 3
   },
   "file_extension": ".py",
   "mimetype": "text/x-python",
   "name": "python",
   "nbconvert_exporter": "python",
   "pygments_lexer": "ipython3",
   "version": "3.13.2"
  }
 },
 "nbformat": 4,
 "nbformat_minor": 5
}
