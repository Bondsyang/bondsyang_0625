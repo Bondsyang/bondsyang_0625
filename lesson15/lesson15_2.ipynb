{
 "cells": [
  {
   "cell_type": "code",
   "execution_count": 3,
   "id": "a4a4726a",
   "metadata": {},
   "outputs": [
    {
     "data": {
      "text/plain": [
       "array([ 0, 10, 20, 30, 40, 50, 60, 70, 80, 90])"
      ]
     },
     "execution_count": 3,
     "metadata": {},
     "output_type": "execute_result"
    }
   ],
   "source": [
    "import numpy as np\n",
    "arr = np.arange(10) * 10\n",
    "arr"
   ]
  },
  {
   "cell_type": "code",
   "execution_count": 5,
   "id": "81e0dcda",
   "metadata": {},
   "outputs": [
    {
     "data": {
      "text/plain": [
       "array([50, 60, 70, 80, 90])"
      ]
     },
     "execution_count": 5,
     "metadata": {},
     "output_type": "execute_result"
    }
   ],
   "source": [
    "#索引\n",
    "arr[1]\n",
    "\n",
    "#一維的slice\n",
    "arr[:5] #前5個\n",
    "arr[-5:] #最後5個"
   ]
  },
  {
   "cell_type": "code",
   "execution_count": 7,
   "id": "f8d9438e",
   "metadata": {},
   "outputs": [
    {
     "data": {
      "text/plain": [
       "array([[80, 56, 96, 53, 95],\n",
       "       [58, 54, 89, 76, 59],\n",
       "       [93, 93, 55, 93, 97],\n",
       "       [96, 59, 86, 97, 66],\n",
       "       [70, 74, 94, 61, 54],\n",
       "       [75, 59, 66, 80, 81],\n",
       "       [66, 55, 69, 93, 86],\n",
       "       [55, 99, 96, 63, 62],\n",
       "       [80, 70, 53, 76, 64],\n",
       "       [94, 60, 59, 73, 65],\n",
       "       [90, 54, 75, 72, 96],\n",
       "       [76, 85, 54, 69, 86],\n",
       "       [82, 69, 94, 58, 62],\n",
       "       [83, 71, 92, 97, 86],\n",
       "       [52, 68, 76, 84, 60],\n",
       "       [76, 97, 95, 89, 93],\n",
       "       [58, 54, 97, 82, 84],\n",
       "       [68, 89, 92, 55, 86],\n",
       "       [70, 55, 96, 83, 62],\n",
       "       [59, 94, 90, 63, 93],\n",
       "       [50, 72, 79, 58, 87],\n",
       "       [67, 56, 65, 88, 94],\n",
       "       [93, 62, 65, 52, 76],\n",
       "       [65, 81, 74, 96, 62],\n",
       "       [94, 65, 66, 75, 56],\n",
       "       [60, 99, 70, 69, 68],\n",
       "       [72, 92, 88, 54, 60],\n",
       "       [62, 69, 92, 81, 61],\n",
       "       [87, 72, 70, 64, 52],\n",
       "       [98, 58, 51, 68, 50],\n",
       "       [81, 65, 86, 62, 60],\n",
       "       [73, 68, 63, 88, 64],\n",
       "       [99, 60, 76, 60, 83],\n",
       "       [51, 97, 86, 68, 68],\n",
       "       [58, 59, 76, 88, 52],\n",
       "       [59, 77, 69, 99, 54],\n",
       "       [52, 71, 53, 64, 62],\n",
       "       [76, 74, 85, 74, 56],\n",
       "       [60, 70, 62, 96, 63],\n",
       "       [68, 50, 71, 64, 60],\n",
       "       [95, 78, 71, 63, 66],\n",
       "       [57, 68, 86, 82, 79],\n",
       "       [60, 97, 79, 67, 90],\n",
       "       [88, 70, 72, 53, 87],\n",
       "       [93, 87, 77, 85, 79],\n",
       "       [89, 70, 85, 70, 93],\n",
       "       [67, 70, 79, 88, 57],\n",
       "       [56, 67, 59, 92, 95],\n",
       "       [57, 64, 78, 50, 61],\n",
       "       [85, 55, 65, 68, 85]], dtype=int32)"
      ]
     },
     "execution_count": 7,
     "metadata": {},
     "output_type": "execute_result"
    }
   ],
   "source": [
    "scores = np.random.randint(50, 100, size=(50, 5))\n",
    "scores"
   ]
  },
  {
   "cell_type": "code",
   "execution_count": null,
   "id": "022215e0",
   "metadata": {},
   "outputs": [
    {
     "data": {
      "text/plain": [
       "(5,)"
      ]
     },
     "execution_count": 10,
     "metadata": {},
     "output_type": "execute_result"
    }
   ],
   "source": [
    "scores = np.random.randint(50, 100, size=(50, 5))\n",
    "scores[0] #shape (5,)\n",
    "scores[0, :]  #第一列所有行\n",
    "scores[0:1, :] #(1, 5) shape"
   ]
  },
  {
   "cell_type": "code",
   "execution_count": 12,
   "id": "6d14051f",
   "metadata": {},
   "outputs": [
    {
     "data": {
      "text/plain": [
       "array([[77, 86, 98],\n",
       "       [60, 94, 87],\n",
       "       [89, 90, 51],\n",
       "       [70, 73, 57],\n",
       "       [54, 50, 57]], dtype=int32)"
      ]
     },
     "execution_count": 12,
     "metadata": {},
     "output_type": "execute_result"
    }
   ],
   "source": [
    "#前5個學生\n",
    "scores[:5, :]\n",
    "#前5個學生的前3科成績\n",
    "scores[:5, :3]"
   ]
  },
  {
   "cell_type": "code",
   "execution_count": 15,
   "id": "1910d9de",
   "metadata": {},
   "outputs": [
    {
     "data": {
      "text/plain": [
       "array([98, 87, 51, 57, 57, 78, 56, 69, 61, 66, 63, 61, 75, 95, 91, 85, 74,\n",
       "       98, 90, 62, 82, 63, 62, 59, 80, 82, 98, 98, 54, 78, 85, 67, 80, 92,\n",
       "       88, 99, 77, 90, 53, 59, 81, 85, 57, 94, 62, 85, 58, 52, 53, 78],\n",
       "      dtype=int32)"
      ]
     },
     "execution_count": 15,
     "metadata": {},
     "output_type": "execute_result"
    }
   ],
   "source": [
    "#第一科的分數\n",
    "scores[:, 0]\n",
    "#第二科的分數\n",
    "scores[:, 1]\n",
    "#第三科的分數\n",
    "scores[:, 2]"
   ]
  },
  {
   "cell_type": "code",
   "execution_count": null,
   "id": "0bc66e70",
   "metadata": {},
   "outputs": [
    {
     "data": {
      "text/plain": [
       "array([422, 360, 349, 350, 322, 359, 330, 379, 429, 394, 367, 335, 384,\n",
       "       366, 411, 453, 373, 365, 382, 319, 381, 333, 412, 305, 366, 358,\n",
       "       391, 409, 346, 358, 419, 371, 317, 365, 371, 375, 356, 369, 382,\n",
       "       387, 390, 374, 319, 408, 327, 421, 357, 388, 346, 349], dtype=int32)"
      ]
     },
     "execution_count": 16,
     "metadata": {},
     "output_type": "execute_result"
    }
   ],
   "source": [
    "#ndarray可以陳列運算\n",
    "#所有人的總分\n",
    "total = scores[:, 0] + scores[:, 1] + scores[:, 2] + scores[:, 3] + scores[:, 4]\n",
    "total"
   ]
  },
  {
   "cell_type": "code",
   "execution_count": 17,
   "id": "c993e887",
   "metadata": {},
   "outputs": [
    {
     "data": {
      "text/plain": [
       "array([84.4, 72. , 69.8, 70. , 64.4, 71.8, 66. , 75.8, 85.8, 78.8, 73.4,\n",
       "       67. , 76.8, 73.2, 82.2, 90.6, 74.6, 73. , 76.4, 63.8, 76.2, 66.6,\n",
       "       82.4, 61. , 73.2, 71.6, 78.2, 81.8, 69.2, 71.6, 83.8, 74.2, 63.4,\n",
       "       73. , 74.2, 75. , 71.2, 73.8, 76.4, 77.4, 78. , 74.8, 63.8, 81.6,\n",
       "       65.4, 84.2, 71.4, 77.6, 69.2, 69.8])"
      ]
     },
     "execution_count": 17,
     "metadata": {},
     "output_type": "execute_result"
    }
   ],
   "source": [
    "total/5"
   ]
  },
  {
   "cell_type": "code",
   "execution_count": null,
   "id": "a6653242",
   "metadata": {},
   "outputs": [],
   "source": [
    "np.sum(scores, axis=1)  #每個學生的總分\n",
    "np.mean(scores, axis=1)  #每個學生的平均分"
   ]
  },
  {
   "cell_type": "code",
   "execution_count": 20,
   "id": "f3e3ce3f",
   "metadata": {},
   "outputs": [
    {
     "data": {
      "text/plain": [
       "array([84.4, 72. , 69.8, 70. , 64.4, 71.8, 66. , 75.8, 85.8, 78.8, 73.4,\n",
       "       67. , 76.8, 73.2, 82.2, 90.6, 74.6, 73. , 76.4, 63.8, 76.2, 66.6,\n",
       "       82.4, 61. , 73.2, 71.6, 78.2, 81.8, 69.2, 71.6, 83.8, 74.2, 63.4,\n",
       "       73. , 74.2, 75. , 71.2, 73.8, 76.4, 77.4, 78. , 74.8, 63.8, 81.6,\n",
       "       65.4, 84.2, 71.4, 77.6, 69.2, 69.8])"
      ]
     },
     "execution_count": 20,
     "metadata": {},
     "output_type": "execute_result"
    }
   ],
   "source": [
    "scores.sum(axis=1) #每個學生的總分：實體方法\n",
    "scores.mean(axis=1) #每個學生的平均分：實體方法"
   ]
  }
 ],
 "metadata": {
  "kernelspec": {
   "display_name": "data_analysis_1_3",
   "language": "python",
   "name": "python3"
  },
  "language_info": {
   "codemirror_mode": {
    "name": "ipython",
    "version": 3
   },
   "file_extension": ".py",
   "mimetype": "text/x-python",
   "name": "python",
   "nbconvert_exporter": "python",
   "pygments_lexer": "ipython3",
   "version": "3.12.11"
  }
 },
 "nbformat": 4,
 "nbformat_minor": 5
}
