{
 "cells": [
  {
   "cell_type": "code",
   "execution_count": 2,
   "id": "b4f53a16",
   "metadata": {},
   "outputs": [
    {
     "data": {
      "text/html": [
       "<div>\n",
       "<style scoped>\n",
       "    .dataframe tbody tr th:only-of-type {\n",
       "        vertical-align: middle;\n",
       "    }\n",
       "\n",
       "    .dataframe tbody tr th {\n",
       "        vertical-align: top;\n",
       "    }\n",
       "\n",
       "    .dataframe thead th {\n",
       "        text-align: right;\n",
       "    }\n",
       "</style>\n",
       "<table border=\"1\" class=\"dataframe\">\n",
       "  <thead>\n",
       "    <tr style=\"text-align: right;\">\n",
       "      <th></th>\n",
       "      <th>key1</th>\n",
       "      <th>key2</th>\n",
       "      <th>data1</th>\n",
       "      <th>data2</th>\n",
       "    </tr>\n",
       "  </thead>\n",
       "  <tbody>\n",
       "    <tr>\n",
       "      <th>0</th>\n",
       "      <td>a</td>\n",
       "      <td>one</td>\n",
       "      <td>-0.511349</td>\n",
       "      <td>-1.922250</td>\n",
       "    </tr>\n",
       "    <tr>\n",
       "      <th>1</th>\n",
       "      <td>a</td>\n",
       "      <td>two</td>\n",
       "      <td>-0.952611</td>\n",
       "      <td>-1.088531</td>\n",
       "    </tr>\n",
       "    <tr>\n",
       "      <th>2</th>\n",
       "      <td>b</td>\n",
       "      <td>one</td>\n",
       "      <td>0.496092</td>\n",
       "      <td>-0.968062</td>\n",
       "    </tr>\n",
       "    <tr>\n",
       "      <th>3</th>\n",
       "      <td>b</td>\n",
       "      <td>two</td>\n",
       "      <td>-0.710073</td>\n",
       "      <td>-1.474042</td>\n",
       "    </tr>\n",
       "    <tr>\n",
       "      <th>4</th>\n",
       "      <td>a</td>\n",
       "      <td>one</td>\n",
       "      <td>0.388578</td>\n",
       "      <td>-1.343888</td>\n",
       "    </tr>\n",
       "  </tbody>\n",
       "</table>\n",
       "</div>"
      ],
      "text/plain": [
       "  key1 key2     data1     data2\n",
       "0    a  one -0.511349 -1.922250\n",
       "1    a  two -0.952611 -1.088531\n",
       "2    b  one  0.496092 -0.968062\n",
       "3    b  two -0.710073 -1.474042\n",
       "4    a  one  0.388578 -1.343888"
      ]
     },
     "execution_count": 2,
     "metadata": {},
     "output_type": "execute_result"
    }
   ],
   "source": [
    "import numpy as np\n",
    "import pandas as pd\n",
    "\n",
    "df = pd.DataFrame({'key1':['a', 'a', 'b', 'b', 'a'],\n",
    "                  'key2':['one', 'two', 'one', 'two', 'one'],\n",
    "                  'data1': np.random.randn(5),\n",
    "                  'data2':np.random.randn(5)})\n",
    "df"
   ]
  },
  {
   "cell_type": "code",
   "execution_count": 9,
   "id": "d544d2f2",
   "metadata": {},
   "outputs": [],
   "source": [
    "df.groupby('key1') #以key1為索引進行分組,DataFrame執行Groupby\n",
    "# compute mean only for numeric columns (avoid applying mean to object columns)\n",
    "mean_df = df.groupby('key1')[['data1', 'data2']].mean()"
   ]
  },
  {
   "cell_type": "code",
   "execution_count": null,
   "id": "f64bdd34",
   "metadata": {},
   "outputs": [
    {
     "data": {
      "text/plain": [
       "       key1\n",
       "data1  a      -0.358461\n",
       "       b      -0.106991\n",
       "data2  a      -1.451556\n",
       "       b      -1.221052\n",
       "dtype: float64"
      ]
     },
     "execution_count": 14,
     "metadata": {},
     "output_type": "execute_result"
    }
   ],
   "source": [
    "mean_df.stack()"
   ]
  },
  {
   "cell_type": "code",
   "execution_count": 21,
   "id": "bb948e29",
   "metadata": {},
   "outputs": [
    {
     "data": {
      "text/html": [
       "<div>\n",
       "<style scoped>\n",
       "    .dataframe tbody tr th:only-of-type {\n",
       "        vertical-align: middle;\n",
       "    }\n",
       "\n",
       "    .dataframe tbody tr th {\n",
       "        vertical-align: top;\n",
       "    }\n",
       "\n",
       "    .dataframe thead th {\n",
       "        text-align: right;\n",
       "    }\n",
       "</style>\n",
       "<table border=\"1\" class=\"dataframe\">\n",
       "  <thead>\n",
       "    <tr style=\"text-align: right;\">\n",
       "      <th></th>\n",
       "      <th>統計</th>\n",
       "      <th>mean</th>\n",
       "      <th>std</th>\n",
       "    </tr>\n",
       "    <tr>\n",
       "      <th>類別</th>\n",
       "      <th>資料</th>\n",
       "      <th></th>\n",
       "      <th></th>\n",
       "    </tr>\n",
       "  </thead>\n",
       "  <tbody>\n",
       "    <tr>\n",
       "      <th rowspan=\"2\" valign=\"top\">a</th>\n",
       "      <th>data1</th>\n",
       "      <td>-0.358461</td>\n",
       "      <td>0.683541</td>\n",
       "    </tr>\n",
       "    <tr>\n",
       "      <th>data2</th>\n",
       "      <td>-1.451556</td>\n",
       "      <td>0.427161</td>\n",
       "    </tr>\n",
       "    <tr>\n",
       "      <th rowspan=\"2\" valign=\"top\">b</th>\n",
       "      <th>data1</th>\n",
       "      <td>-0.106991</td>\n",
       "      <td>0.852888</td>\n",
       "    </tr>\n",
       "    <tr>\n",
       "      <th>data2</th>\n",
       "      <td>-1.221052</td>\n",
       "      <td>0.357782</td>\n",
       "    </tr>\n",
       "  </tbody>\n",
       "</table>\n",
       "</div>"
      ],
      "text/plain": [
       "統計            mean       std\n",
       "類別 資料                       \n",
       "a  data1 -0.358461  0.683541\n",
       "   data2 -1.451556  0.427161\n",
       "b  data1 -0.106991  0.852888\n",
       "   data2 -1.221052  0.357782"
      ]
     },
     "execution_count": 21,
     "metadata": {},
     "output_type": "execute_result"
    }
   ],
   "source": [
    "df1 = df.groupby('key1')[['data1', 'data2']].agg(['mean', 'std'])\n",
    "df1.columns.names = ['資料', '統計']\n",
    "df1.index.name = '類別'\n",
    "# 樞紐分析表 -> 三維資料\n",
    "df1.stack(level=\"統計\", future_stack=True)\n",
    "df1.stack(level=\"資料\", future_stack=True)"
   ]
  }
 ],
 "metadata": {
  "kernelspec": {
   "display_name": "data_analysis_1_3",
   "language": "python",
   "name": "python3"
  },
  "language_info": {
   "codemirror_mode": {
    "name": "ipython",
    "version": 3
   },
   "file_extension": ".py",
   "mimetype": "text/x-python",
   "name": "python",
   "nbconvert_exporter": "python",
   "pygments_lexer": "ipython3",
   "version": "3.12.11"
  }
 },
 "nbformat": 4,
 "nbformat_minor": 5
}
