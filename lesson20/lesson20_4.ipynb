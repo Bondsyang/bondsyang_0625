{
 "cells": [
  {
   "cell_type": "code",
   "execution_count": 8,
   "id": "dfb8975d",
   "metadata": {},
   "outputs": [
    {
     "data": {
      "text/plain": [
       "<bound method NDFrame.head of        總票價    小費  吸煙者    日期      時間  大小   小費比例\n",
       "0    16.99  1.01   No   Sun  Dinner   2   5.9%\n",
       "1    10.34  1.66   No   Sun  Dinner   3  16.1%\n",
       "2    21.01  3.50   No   Sun  Dinner   3  16.7%\n",
       "3    23.68  3.31   No   Sun  Dinner   2  14.0%\n",
       "4    24.59  3.61   No   Sun  Dinner   4  14.7%\n",
       "..     ...   ...  ...   ...     ...  ..    ...\n",
       "239  29.03  5.92   No   Sat  Dinner   3  20.4%\n",
       "240  27.18  2.00  Yes   Sat  Dinner   2   7.4%\n",
       "241  22.67  2.00  Yes   Sat  Dinner   2   8.8%\n",
       "242  17.82  1.75   No   Sat  Dinner   2   9.8%\n",
       "243  18.78  3.00   No  Thur  Dinner   2  16.0%\n",
       "\n",
       "[244 rows x 7 columns]>"
      ]
     },
     "execution_count": 8,
     "metadata": {},
     "output_type": "execute_result"
    }
   ],
   "source": [
    "import numpy as np\n",
    "import pandas as pd\n",
    "\n",
    "tips = pd.read_csv('tips.csv')\n",
    "tips.columns = ['總票價','小費','吸煙者','日期','時間','大小']\n",
    "tips['小費比例'] = tips['小費'] / tips['總票價']\n",
    "\n",
    "# 將小費比轉換為'xx.x%'\n",
    "tips['小費比例'] = tips['小費比例'].map('{:.1%}'.format)\n",
    "tips.head"
   ]
  }
 ],
 "metadata": {
  "kernelspec": {
   "display_name": "data_analysis_1_3",
   "language": "python",
   "name": "python3"
  },
  "language_info": {
   "codemirror_mode": {
    "name": "ipython",
    "version": 3
   },
   "file_extension": ".py",
   "mimetype": "text/x-python",
   "name": "python",
   "nbconvert_exporter": "python",
   "pygments_lexer": "ipython3",
   "version": "3.12.11"
  }
 },
 "nbformat": 4,
 "nbformat_minor": 5
}
