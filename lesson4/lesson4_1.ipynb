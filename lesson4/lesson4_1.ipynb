{
 "cells": [
  {
   "cell_type": "markdown",
   "id": "60e734ec",
   "metadata": {},
   "source": [
    "print(*objects, sep=' ', end='\\n', file=None, flush=False)\n",
    "sep=' ', end='\\n', file=None, flush=False --> default值，可有可無\n",
    "*objects"
   ]
  },
  {
   "cell_type": "code",
   "execution_count": 7,
   "id": "92c525f8",
   "metadata": {},
   "outputs": [
    {
     "name": "stdout",
     "output_type": "stream",
     "text": [
      "3數的加總量： 177.8\n"
     ]
    }
   ],
   "source": [
    "value1 = float(input('請輸入第一個值：')) #傳出STR字串\n",
    "value2 = float(input('請輸入第二個值：'))\n",
    "value3 = float(input('請輸入第三個值：'))\n",
    "\n",
    "total = value1 + value2 + value3\n",
    "print(\"3數的加總量：\",total)"
   ]
  },
  {
   "cell_type": "code",
   "execution_count": 10,
   "id": "70a14bd0",
   "metadata": {},
   "outputs": [
    {
     "name": "stdout",
     "output_type": "stream",
     "text": [
      "3 5.0 您好 True 78.9\n"
     ]
    }
   ],
   "source": [
    "print(3, \"5.0\", \"您好\", True, 78.9)"
   ]
  },
  {
   "cell_type": "code",
   "execution_count": null,
   "id": "e0406e4e",
   "metadata": {},
   "outputs": [
    {
     "name": "stdout",
     "output_type": "stream",
     "text": [
      "n= 50\n"
     ]
    }
   ],
   "source": [
    "n = 25\n",
    "n = n + 25 #指定運算子(非數學式中的等於)\n",
    "print('n=', n)"
   ]
  },
  {
   "cell_type": "code",
   "execution_count": 14,
   "id": "7cf89dd1",
   "metadata": {},
   "outputs": [
    {
     "name": "stdout",
     "output_type": "stream",
     "text": [
      "3數的加總量： 163.247711278\n"
     ]
    }
   ],
   "source": [
    "#複合指定運算子\n",
    "\n",
    "total = 0 #一定要給初始值0\n",
    "value = float(input('請輸入第一個值：')) #傳出STR字串\n",
    "total += value\n",
    "\n",
    "value = float(input('請輸入第二個值：'))\n",
    "total += value\n",
    "\n",
    "value = float(input('請輸入第三個值：'))\n",
    "total += value\n",
    "\n",
    "print(\"3數的加總量：\",total)"
   ]
  },
  {
   "cell_type": "code",
   "execution_count": null,
   "id": "32f97a6b",
   "metadata": {},
   "outputs": [
    {
     "name": "stdout",
     "output_type": "stream",
     "text": [
      "n= 100\n"
     ]
    }
   ],
   "source": [
    "#複合指定運算子\n",
    "# += -> 原來的n加等號後的數字 'n += 25' is equal to 'n = n + 25'\n",
    "# -= -> 原來的n減等號後的數字\n",
    "# *= -> 原來的n乘等號後的數字\n",
    "\n",
    "n = 25\n",
    "n += 25\n",
    "n *= 2\n",
    "print('n=', n)"
   ]
  },
  {
   "cell_type": "code",
   "execution_count": null,
   "id": "5cd450c3",
   "metadata": {},
   "outputs": [
    {
     "name": "stdout",
     "output_type": "stream",
     "text": [
      "a= 3.0\n",
      "b= 4.0\n",
      "斜邊為 5.0\n"
     ]
    }
   ],
   "source": [
    "#直角三角形 (內建工具箱應用: math -> import math, math後面為命名空間)\n",
    "import math\n",
    "a = float(input(\"請輸入a=\"))\n",
    "b = float(input(\"請輸入b=\"))\n",
    "c = math.sqrt(a ** 2 + b ** 2) #.翻譯成\"的\"\n",
    "\n",
    "print(\"a=\", a) #後面加;可以省略\n",
    "print(\"b=\", b)\n",
    "print(\"斜邊為\", c)"
   ]
  },
  {
   "cell_type": "code",
   "execution_count": null,
   "id": "1d47b7c4",
   "metadata": {},
   "outputs": [
    {
     "name": "stdout",
     "output_type": "stream",
     "text": [
      "直角三角形的弳度是 0.6435011087932844\n",
      "直角三角形的角度是 36.86989764584402\n"
     ]
    }
   ],
   "source": [
    "import math\n",
    "side = float(input(\"請輸入斜邊：\"))\n",
    "other_side = float(input(\"請輸入對邊：\"))\n",
    "radian = math.asin(other_side / side) #asin是三角函數中的arcsin -> 弳/弧度\n",
    "degree = math.degrees(radian) #degree為三角函數中 弳/弧度轉為角度\n",
    "\n",
    "print(\"直角三角形的弳度是\", radian)\n",
    "print(\"直角三角形的角度是\", degree)"
   ]
  }
 ],
 "metadata": {
  "kernelspec": {
   "display_name": "base",
   "language": "python",
   "name": "python3"
  },
  "language_info": {
   "codemirror_mode": {
    "name": "ipython",
    "version": 3
   },
   "file_extension": ".py",
   "mimetype": "text/x-python",
   "name": "python",
   "nbconvert_exporter": "python",
   "pygments_lexer": "ipython3",
   "version": "3.13.2"
  }
 },
 "nbformat": 4,
 "nbformat_minor": 5
}
