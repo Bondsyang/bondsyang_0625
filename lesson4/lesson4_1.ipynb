{
 "cells": [
  {
   "cell_type": "markdown",
   "id": "60e734ec",
   "metadata": {},
   "source": [
    "print(*objects, sep=' ', end='\\n', file=None, flush=False)\n",
    "sep=' ', end='\\n', file=None, flush=False --> default值，可有可無\n",
    "*objects"
   ]
  },
  {
   "cell_type": "code",
   "execution_count": 7,
   "id": "92c525f8",
   "metadata": {},
   "outputs": [
    {
     "name": "stdout",
     "output_type": "stream",
     "text": [
      "3數的加總量： 177.8\n"
     ]
    }
   ],
   "source": [
    "value1 = float(input('請輸入第一個值：')) #傳出STR字串\n",
    "value2 = float(input('請輸入第二個值：'))\n",
    "value3 = float(input('請輸入第三個值：'))\n",
    "\n",
    "total = value1 + value2 + value3\n",
    "print(\"3數的加總量：\",total)"
   ]
  },
  {
   "cell_type": "code",
   "execution_count": 6,
   "id": "70a14bd0",
   "metadata": {},
   "outputs": [
    {
     "ename": "NameError",
     "evalue": "name 'true' is not defined",
     "output_type": "error",
     "traceback": [
      "\u001b[31m---------------------------------------------------------------------------\u001b[39m",
      "\u001b[31mNameError\u001b[39m                                 Traceback (most recent call last)",
      "\u001b[36mCell\u001b[39m\u001b[36m \u001b[39m\u001b[32mIn[6]\u001b[39m\u001b[32m, line 1\u001b[39m\n\u001b[32m----> \u001b[39m\u001b[32m1\u001b[39m \u001b[38;5;28mprint\u001b[39m(\u001b[32m3\u001b[39m, \u001b[33m\"\u001b[39m\u001b[33m5.0\u001b[39m\u001b[33m\"\u001b[39m, \u001b[33m\"\u001b[39m\u001b[33m您好\u001b[39m\u001b[33m\"\u001b[39m, \u001b[43mtrue\u001b[49m)\n",
      "\u001b[31mNameError\u001b[39m: name 'true' is not defined"
     ]
    }
   ],
   "source": [
    "print(3, \"5.0\", \"您好\", true)"
   ]
  }
 ],
 "metadata": {
  "kernelspec": {
   "display_name": "base",
   "language": "python",
   "name": "python3"
  },
  "language_info": {
   "codemirror_mode": {
    "name": "ipython",
    "version": 3
   },
   "file_extension": ".py",
   "mimetype": "text/x-python",
   "name": "python",
   "nbconvert_exporter": "python",
   "pygments_lexer": "ipython3",
   "version": "3.13.2"
  }
 },
 "nbformat": 4,
 "nbformat_minor": 5
}
