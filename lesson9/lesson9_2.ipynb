{
 "cells": [
  {
   "cell_type": "code",
   "execution_count": null,
   "id": "95539de1",
   "metadata": {},
   "outputs": [
    {
     "name": "stdout",
     "output_type": "stream",
     "text": [
      "(1, 2.5, '3.9', 'hello', True)\n"
     ]
    }
   ],
   "source": [
    "##如果參數有*參數名稱\n",
    "#沒有限定數量的引數值呼叫\n",
    "\n",
    "def fun1(*args):\n",
    "    print(args)  #args是一個tuple：把多個數值打包在一起 -> 使用()包起來\n",
    "\n",
    "fun1(1, 2.5, '3.9', 'hello', True)   #要打多少都可以"
   ]
  },
  {
   "cell_type": "code",
   "execution_count": 3,
   "id": "e083bfad",
   "metadata": {},
   "outputs": [
    {
     "data": {
      "text/plain": [
       "('a', 'b', 'c', 'd', 'e')"
      ]
     },
     "execution_count": 3,
     "metadata": {},
     "output_type": "execute_result"
    }
   ],
   "source": [
    "#建立自訂的tuple\n",
    "\n",
    "('a', 'b', 'c', 'd', 'e') #使用()符號建立tuple\n",
    "'a', 'b', 'c', 'd', 'e'  #可以省略()，直接使用逗號分隔"
   ]
  }
 ],
 "metadata": {
  "kernelspec": {
   "display_name": "base",
   "language": "python",
   "name": "python3"
  },
  "language_info": {
   "codemirror_mode": {
    "name": "ipython",
    "version": 3
   },
   "file_extension": ".py",
   "mimetype": "text/x-python",
   "name": "python",
   "nbconvert_exporter": "python",
   "pygments_lexer": "ipython3",
   "version": "3.13.2"
  }
 },
 "nbformat": 4,
 "nbformat_minor": 5
}
