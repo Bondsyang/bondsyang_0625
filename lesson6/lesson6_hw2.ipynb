{
 "cells": [
  {
   "cell_type": "code",
   "execution_count": 31,
   "id": "1537096d",
   "metadata": {},
   "outputs": [
    {
     "name": "stdout",
     "output_type": "stream",
     "text": [
      "98 的因數：\n",
      "1\n",
      "2\n",
      "7\n",
      "14\n",
      "49\n",
      "98\n"
     ]
    }
   ],
   "source": [
    "#第一題\n",
    "value = int(input(\"請輸入一整數：\"))\n",
    "print(f\"{value} 的因數：\")\n",
    "\n",
    "factor = 1\n",
    "while (factor <= value):\n",
    "    if value % factor == 0:\n",
    "        print(factor)\n",
    "    factor += 1"
   ]
  },
  {
   "cell_type": "code",
   "execution_count": 34,
   "id": "be2a7bfa",
   "metadata": {},
   "outputs": [
    {
     "name": "stdout",
     "output_type": "stream",
     "text": [
      "350 及 450 的公因數：\n",
      "1\n",
      "2\n",
      "5\n",
      "10\n",
      "25\n",
      "50\n"
     ]
    }
   ],
   "source": [
    "#第二題\n",
    "value1 = int(input(\"請輸入第一個整數：\"))\n",
    "value2 = int(input(\"請輸入第二個整數：\"))\n",
    "print(f\"{value1} 及 {value2} 的公因數：\")\n",
    "\n",
    "factor = 1\n",
    "while (factor <= value1 and factor <= value2):\n",
    "    if value1 % factor == 0 and value2 % factor == 0:\n",
    "        print(factor)\n",
    "    factor += 1"
   ]
  }
 ],
 "metadata": {
  "kernelspec": {
   "display_name": "base",
   "language": "python",
   "name": "python3"
  },
  "language_info": {
   "codemirror_mode": {
    "name": "ipython",
    "version": 3
   },
   "file_extension": ".py",
   "mimetype": "text/x-python",
   "name": "python",
   "nbconvert_exporter": "python",
   "pygments_lexer": "ipython3",
   "version": "3.13.2"
  }
 },
 "nbformat": 4,
 "nbformat_minor": 5
}
