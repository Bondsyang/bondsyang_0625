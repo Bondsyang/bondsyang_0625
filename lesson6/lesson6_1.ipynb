{
 "cells": [
  {
   "cell_type": "code",
   "execution_count": 4,
   "id": "74352535",
   "metadata": {},
   "outputs": [
    {
     "name": "stdout",
     "output_type": "stream",
     "text": [
      "您的身高: 173.0 cm\n",
      "您的體重: 90.0 kg\n",
      "您的bmi是: 30.071168431955627\n"
     ]
    }
   ],
   "source": [
    "try:\n",
    "    h = float(input(\"請輸入身高(120-250,cm):\"))\n",
    "    if h >= 120 and h <= 250: #可以寫成 120 <= h <= 250；bool(true) and(同時：嚴格得到True) bool(true)-> 傳出一個bool(true)；or(或者；容易得到True)；not bool(一元運算子；改變True和False的程式區塊)\n",
    "        print(\"您的身高:\",h,\"cm\")\n",
    "        w = float(input(\"請輸入體重(30-200,kg):\"))\n",
    "        if w >= 30 and w <= 200: #可以寫成 30 <= h <= 200\n",
    "            print(\"您的體重:\",w,\"kg\")\n",
    "            BMI = w / (h/100) ** 2\n",
    "            print(\"您的bmi是:\",BMI)\n",
    "        else:\n",
    "            raise Exception(\"輸入的體重超出範圍!!\")\n",
    "    else:\n",
    "        raise Exception(\"輸入的身高超出範圍!!\")\n",
    "\n",
    "except ValueError as e:\n",
    "    print(\"格式錯誤\",e)\n",
    "except Exception as e:\n",
    "    print(e)\n"
   ]
  },
  {
   "cell_type": "code",
   "execution_count": 17,
   "id": "f7309e51",
   "metadata": {},
   "outputs": [
    {
     "name": "stdout",
     "output_type": "stream",
     "text": [
      "您的身高: 173.0 cm\n",
      "您的體重: 90.0 kg\n",
      "您的BMI為: 30.1\n",
      "~應用程式結束~\n"
     ]
    }
   ],
   "source": [
    "try:\n",
    "    h = float(input(\"請輸入身高(120-250,cm):\"))\n",
    "    if not (120 <= h <= 250):\n",
    "        raise Exception(\"身高範圍120cm~250cm!!\")\n",
    "        \n",
    "    w = float(input(\"請輸入體重(30-200,kg):\"))\n",
    "    if not (30 <= w <= 200):\n",
    "        raise Exception(\"體重範圍30kg~200kg!!\")\n",
    "    \n",
    "    print(\"您的身高:\",h,\"cm\")\n",
    "    print(\"您的體重:\",w,\"kg\")    \n",
    "\n",
    "except ValueError as e:\n",
    "    print(\"格式錯誤\",e)\n",
    "except Exception as e:\n",
    "    print(e)\n",
    "\n",
    "else:\n",
    "    BMI = w / (h/100) ** 2\n",
    "    print(\"您的BMI為:\",round(BMI,ndigits=1))\n",
    "\n",
    "finally:\n",
    "    print(\"~應用程式結束~\")\n",
    "\n"
   ]
  }
 ],
 "metadata": {
  "kernelspec": {
   "display_name": "base",
   "language": "python",
   "name": "python3"
  },
  "language_info": {
   "codemirror_mode": {
    "name": "ipython",
    "version": 3
   },
   "file_extension": ".py",
   "mimetype": "text/x-python",
   "name": "python",
   "nbconvert_exporter": "python",
   "pygments_lexer": "ipython3",
   "version": "3.13.2"
  }
 },
 "nbformat": 4,
 "nbformat_minor": 5
}
