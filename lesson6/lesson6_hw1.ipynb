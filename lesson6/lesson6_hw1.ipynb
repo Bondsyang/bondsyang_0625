{
 "cells": [
  {
   "cell_type": "code",
   "execution_count": 6,
   "id": "dae51d7e",
   "metadata": {},
   "outputs": [
    {
     "name": "stdout",
     "output_type": "stream",
     "text": [
      "您的身高: 173.0 cm\n",
      "您的體重: 90.0 kg\n",
      "您的BMI為: 30.1 中度肥胖\n",
      "~應用程式結束~\n"
     ]
    }
   ],
   "source": [
    "try:\n",
    "    h = float(input(\"請輸入身高(120-250,cm):\"))\n",
    "    if not (120 <= h <= 250):\n",
    "        raise Exception(\"身高範圍120cm~250cm!!\")\n",
    "    w = float(input(\"請輸入體重(30-200,kg):\"))\n",
    "    if not (30 <= w <= 200):\n",
    "        raise Exception(\"體重範圍30kg~200kg!!\")\n",
    "    \n",
    "    print(\"您的身高:\",h,\"cm\")\n",
    "    print(\"您的體重:\",w,\"kg\")    \n",
    "\n",
    "except ValueError as e:\n",
    "    print(\"格式錯誤\",e)\n",
    "except Exception as e:\n",
    "    print(e)\n",
    "\n",
    "else:\n",
    "    BMI = w / (h/100) ** 2\n",
    "    if BMI < 18.5:\n",
    "        print(\"您的BMI為:\",round(BMI,ndigits=1),\"體重過輕\")\n",
    "    elif 18.5 <= BMI < 24:\n",
    "        print(\"您的BMI為:\",round(BMI,ndigits=1),\"正常範圍\")\n",
    "    elif 24 <= BMI < 27:\n",
    "        print(\"您的BMI為:\",round(BMI,ndigits=1),\"過重\")\n",
    "    elif 27 <= BMI < 30:\n",
    "        print(\"您的BMI為:\",round(BMI,ndigits=1),\"輕度肥胖\")\n",
    "    elif 30 <= BMI < 35:\n",
    "        print(\"您的BMI為:\",round(BMI,ndigits=1),\"中度肥胖\")\n",
    "    elif BMI >= 35:\n",
    "        print(\"您的BMI為:\",round(BMI,ndigits=1),\"過度肥胖\")\n",
    "\n",
    "finally:\n",
    "    print(\"~應用程式結束~\")"
   ]
  }
 ],
 "metadata": {
  "kernelspec": {
   "display_name": "base",
   "language": "python",
   "name": "python3"
  },
  "language_info": {
   "codemirror_mode": {
    "name": "ipython",
    "version": 3
   },
   "file_extension": ".py",
   "mimetype": "text/x-python",
   "name": "python",
   "nbconvert_exporter": "python",
   "pygments_lexer": "ipython3",
   "version": "3.13.2"
  }
 },
 "nbformat": 4,
 "nbformat_minor": 5
}
