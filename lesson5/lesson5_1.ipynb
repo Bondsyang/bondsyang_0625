{
 "cells": [
  {
   "cell_type": "markdown",
   "id": "58b78e19",
   "metadata": {},
   "source": [
    "https://www.perplexity.ai/search/a29a216f-aa87-4cb8-928d-5f1d6ad6cb5d"
   ]
  },
  {
   "cell_type": "code",
   "execution_count": 3,
   "id": "4fa91640",
   "metadata": {},
   "outputs": [
    {
     "name": "stdout",
     "output_type": "stream",
     "text": [
      "學生總分是： 304\n"
     ]
    }
   ],
   "source": [
    "#學生總分為300\n",
    "#有些學生可以加分5%\n",
    "\n",
    "scores = int(input(\"請輸入學生分數(最高300)\"))     #input(\"請輸入學生分數(最高300)\") 字串無法比較大小；必定執行\n",
    "is_add = input(\"學生是否符合加分條件？(y,n)\")      #字串\n",
    "\n",
    "if is_add == \"y\": #單項選擇 (==：比較/關係運算子)\n",
    "    scores *= 1.05\n",
    "#單項選擇不加else(flase不做任何事)\n",
    "\n",
    "print(\"學生總分是：\",round(scores))"
   ]
  },
  {
   "cell_type": "code",
   "execution_count": 6,
   "id": "4a74bbc9",
   "metadata": {},
   "outputs": [
    {
     "name": "stdout",
     "output_type": "stream",
     "text": [
      "學生總分是： 294\n"
     ]
    }
   ],
   "source": [
    "#學生總分為300\n",
    "#有些學生可以加分5%\n",
    "\n",
    "scores = int(input(\"請輸入學生分數(最高300)\"))     #input(\"請輸入學生分數(最高300)\") 字串無法比較大小；必定執行\n",
    "is_add = input(\"學生是否符合加分條件？(y,n)\")      #字串\n",
    "\n",
    "if is_add == \"y\": #單項選擇 (==：比較/關係運算子)\n",
    "    scores *= 1.05\n",
    "    if scores > 300: #巢狀判斷\n",
    "        scores = 300 #如果2個if都符合，2個都執行，否果兩個都沒有符合，皆不執行\n",
    "\n",
    "#單項選擇不加else(flase不做任何事)\n",
    "\n",
    "print(\"學生總分是：\",round(scores))"
   ]
  },
  {
   "cell_type": "code",
   "execution_count": 8,
   "id": "6a52ddab",
   "metadata": {},
   "outputs": [
    {
     "name": "stdout",
     "output_type": "stream",
     "text": [
      "總分不得超過300分\n",
      "應用程式結束\n"
     ]
    }
   ],
   "source": [
    "#學生總分為300\n",
    "#有些學生可以加分5%\n",
    "\n",
    "scores = int(input(\"請輸入學生分數(最高300)\"))     #input(\"請輸入學生分數(最高300)\") 字串無法比較大小；必定執行\n",
    "if scores <= 300:\n",
    "    is_add = input(\"學生是否符合加分條件？(y,n)\")      #字串\n",
    "\n",
    "    if is_add == \"y\": #單項選擇 (==：比較/關係運算子)\n",
    "        scores *= 1.05\n",
    "    #單項選擇不加else(flase不做任何事)\n",
    "\n",
    "    print(\"學生總分是：\",round(scores))\n",
    "else:\n",
    "    print(\"總分不得超過300分\")\n",
    "\n",
    "print(\"應用程式結束\")"
   ]
  },
  {
   "cell_type": "code",
   "execution_count": 12,
   "id": "a2e26e5c",
   "metadata": {},
   "outputs": [
    {
     "name": "stdout",
     "output_type": "stream",
     "text": [
      "格式錯誤\n",
      "應用程式結束\n"
     ]
    }
   ],
   "source": [
    "try:\n",
    "    money = int(input(\"請輸入金額:\")) #執行第二件事 int()機制：raise Exception (丟出一個例外)，程式馬上終止 -> value error()\n",
    "except IndexError:\n",
    "    print(\"索引錯誤\")\n",
    "except ValueError:\n",
    "    print(\"格式錯誤\")\n",
    "except:\n",
    "    print(\"不知名的錯誤\")\n",
    "\n",
    "print(\"應用程式結束\")"
   ]
  },
  {
   "cell_type": "code",
   "execution_count": 14,
   "id": "15350925",
   "metadata": {},
   "outputs": [
    {
     "name": "stdout",
     "output_type": "stream",
     "text": [
      "格式錯誤 invalid literal for int() with base 10: ''\n",
      "應用程式結束\n"
     ]
    }
   ],
   "source": [
    "try:\n",
    "    money = int(input(\"請輸入金額:\")) #執行第二件事 int()機制：raise Exception (丟出一個例外)，程式馬上終止 -> value error()\n",
    "except IndexError as e: \n",
    "    print(\"索引錯誤\",e)\n",
    "except ValueError as e: #把錯誤的訊息當成e\n",
    "    print(\"格式錯誤\",e)\n",
    "except:\n",
    "    print(\"不知名的錯誤\")\n",
    "\n",
    "print(\"應用程式結束\")"
   ]
  },
  {
   "cell_type": "code",
   "execution_count": 5,
   "id": "61e83fd1",
   "metadata": {},
   "outputs": [
    {
     "name": "stdout",
     "output_type": "stream",
     "text": [
      "格式錯誤 invalid literal for int() with base 10: '345a'\n",
      "結束internet連線\n",
      "應用程式結束\n"
     ]
    }
   ],
   "source": [
    "try:\n",
    "    money = int(input(\"請輸入金額:\")) #執行第二件事 int()機制：raise Exception (丟出一個例外)，程式馬上終止 -> value error()\n",
    "except IndexError as e: \n",
    "    print(\"索引錯誤\",e)\n",
    "except ValueError as e: #把錯誤的訊息當成e\n",
    "    print(\"格式錯誤\",e)\n",
    "except:\n",
    "    print(\"不知名的錯誤\")\n",
    "else:     #正確時執行\n",
    "    print(\"沒有出現錯誤\")\n",
    "finally:  #無論正確或錯誤，都要執行\n",
    "    print(\"結束internet連線\")\n",
    "\n",
    "print(\"應用程式結束\")"
   ]
  }
 ],
 "metadata": {
  "kernelspec": {
   "display_name": "base",
   "language": "python",
   "name": "python3"
  },
  "language_info": {
   "codemirror_mode": {
    "name": "ipython",
    "version": 3
   },
   "file_extension": ".py",
   "mimetype": "text/x-python",
   "name": "python",
   "nbconvert_exporter": "python",
   "pygments_lexer": "ipython3",
   "version": "3.13.2"
  }
 },
 "nbformat": 4,
 "nbformat_minor": 5
}
