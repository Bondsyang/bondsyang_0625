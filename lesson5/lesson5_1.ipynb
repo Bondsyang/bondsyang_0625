{
 "cells": [
  {
   "cell_type": "code",
   "execution_count": 3,
   "id": "4fa91640",
   "metadata": {},
   "outputs": [
    {
     "name": "stdout",
     "output_type": "stream",
     "text": [
      "學生總分是： 304\n"
     ]
    }
   ],
   "source": [
    "#學生總分為300\n",
    "#有些學生可以加分5%\n",
    "\n",
    "scores = int(input(\"請輸入學生分數(最高300)\"))     #input(\"請輸入學生分數(最高300)\") 字串無法比較大小；必定執行\n",
    "is_add = input(\"學生是否符合加分條件？(y,n)\")      #字串\n",
    "\n",
    "if is_add == \"y\": #單項選擇 (==：比較/關係運算子)\n",
    "    scores *= 1.05\n",
    "#單項選擇不加else(flase不做任何事)\n",
    "\n",
    "print(\"學生總分是：\",round(scores))"
   ]
  },
  {
   "cell_type": "code",
   "execution_count": null,
   "id": "4a74bbc9",
   "metadata": {},
   "outputs": [
    {
     "name": "stdout",
     "output_type": "stream",
     "text": [
      "學生總分是： 300\n"
     ]
    }
   ],
   "source": [
    "#學生總分為300\n",
    "#有些學生可以加分5%\n",
    "\n",
    "scores = int(input(\"請輸入學生分數(最高300)\"))     #input(\"請輸入學生分數(最高300)\") 字串無法比較大小；必定執行\n",
    "is_add = input(\"學生是否符合加分條件？(y,n)\")      #字串\n",
    "\n",
    "if is_add == \"y\": #單項選擇 (==：比較/關係運算子)\n",
    "    scores *= 1.05\n",
    "    if scores > 300: #巢狀判斷\n",
    "        scores = 300 #如果2個if都符合，2個都執行，否果兩個都沒有符合，皆不執行\n",
    "\n",
    "#單項選擇不加else(flase不做任何事)\n",
    "\n",
    "print(\"學生總分是：\",round(scores))"
   ]
  }
 ],
 "metadata": {
  "kernelspec": {
   "display_name": "base",
   "language": "python",
   "name": "python3"
  },
  "language_info": {
   "codemirror_mode": {
    "name": "ipython",
    "version": 3
   },
   "file_extension": ".py",
   "mimetype": "text/x-python",
   "name": "python",
   "nbconvert_exporter": "python",
   "pygments_lexer": "ipython3",
   "version": "3.13.2"
  }
 },
 "nbformat": 4,
 "nbformat_minor": 5
}
