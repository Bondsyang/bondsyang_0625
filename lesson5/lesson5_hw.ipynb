{
 "cells": [
  {
   "cell_type": "code",
   "execution_count": 39,
   "id": "3b93bf78",
   "metadata": {},
   "outputs": [
    {
     "name": "stdout",
     "output_type": "stream",
     "text": [
      "您的身高: 173.0\n",
      "您的體重: 90.0\n",
      "您的bmi是: 30.071168431955627\n"
     ]
    }
   ],
   "source": [
    "try:\n",
    "    h = float(input(\"請輸入身高(120-250,cm):\"))\n",
    "    if h >= 120 and h <= 250:\n",
    "        print(\"您的身高:\",h)\n",
    "        w = float(input(\"請輸入體重(30-200,kg):\"))\n",
    "        if w >= 30 and w <= 200:\n",
    "            print(\"您的體重:\",w)\n",
    "            BMI = w / (h/100) ** 2\n",
    "            print(\"您的bmi是:\",BMI)\n",
    "        else:\n",
    "            raise Exception(\"輸入的體重超出範圍!!\")\n",
    "    else:\n",
    "        raise Exception(\"輸入的身高超出範圍!!\")\n",
    "\n",
    "except ValueError as e:\n",
    "    print(\"格式錯誤\",e)\n",
    "except Exception as e:\n",
    "    print(e)\n"
   ]
  }
 ],
 "metadata": {
  "kernelspec": {
   "display_name": "base",
   "language": "python",
   "name": "python3"
  },
  "language_info": {
   "codemirror_mode": {
    "name": "ipython",
    "version": 3
   },
   "file_extension": ".py",
   "mimetype": "text/x-python",
   "name": "python",
   "nbconvert_exporter": "python",
   "pygments_lexer": "ipython3",
   "version": "3.13.2"
  }
 },
 "nbformat": 4,
 "nbformat_minor": 5
}
