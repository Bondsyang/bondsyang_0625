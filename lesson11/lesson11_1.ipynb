{
 "cells": [
  {
   "cell_type": "code",
   "execution_count": null,
   "id": "9be8838d",
   "metadata": {},
   "outputs": [
    {
     "name": "stdout",
     "output_type": "stream",
     "text": [
      "[['陳孝邦', 98, 80, 52], ['張莉雯', 50, 94, 67], ['陳美惠', 97, 60, 70]]\n"
     ]
    }
   ],
   "source": [
    "#有一個names.txt\n",
    "#讀取names.txt\n",
    "#請隨機取出3個名字\n",
    "#建立2維的list,結構如下\n",
    "#每個姓名有3個分數,分數是(50~100)的隨機數\n",
    "#輸出結果：[['陳怡伶',67,92,97],['馮芳如',98,86,75],['蒙淑惠',76,65,59]]\n",
    "\n",
    "import random\n",
    "with open(\"names.txt\", encoding=\"utf-8\") as file:\n",
    "    content: str = file.read()\n",
    "    names: list = content.split(\"\\n\")\n",
    "    names = random.sample(names, 3)  # 隨機取出3個名字\n",
    "    scores: list = [[random.randint(50, 100) for _ in range(3)] for _ in names]\n",
    "    names = [[name] + score for name, score in zip(names, scores)]  # 合併姓名和分數\n",
    "    print(names)"
   ]
  },
  {
   "cell_type": "code",
   "execution_count": 2,
   "id": "359a7f24",
   "metadata": {},
   "outputs": [
    {
     "name": "stdout",
     "output_type": "stream",
     "text": [
      "['游一鈺', '張彥博', '王良斌']\n"
     ]
    }
   ],
   "source": [
    "#有一個names.txt\n",
    "#讀取names.txt\n",
    "#請隨機取出3個名字\n",
    "import random\n",
    "\n",
    "def sample_names_from_file(file_name: str, num: int = 1) -> list[str]:\n",
    "    \"\"\"\n",
    "    從指定的檔案中隨機取出指定數量的名字。\n",
    "\n",
    "    參數:\n",
    "        file_name (str): 檔案名稱，檔案內容為每行一個名字。\n",
    "        num (int): 要隨機取出的名字數量，預設為1。\n",
    "\n",
    "    回傳:\n",
    "        list[str]: 隨機取出的名字列表。\n",
    "    \"\"\"\n",
    "    with open(file_name, encoding=\"utf-8\") as file:\n",
    "        content: str = file.read()\n",
    "        names: list[str] = content.split()\n",
    "        return random.sample(names, num)\n",
    "\n",
    "def main():\n",
    "    names: list[str] = sample_names_from_file(\"names.txt\", num=3)\n",
    "    print(names)\n",
    "\n",
    "if __name__ == \"__main__\":\n",
    "    main()"
   ]
  }
 ],
 "metadata": {
  "kernelspec": {
   "display_name": "base",
   "language": "python",
   "name": "python3"
  },
  "language_info": {
   "codemirror_mode": {
    "name": "ipython",
    "version": 3
   },
   "file_extension": ".py",
   "mimetype": "text/x-python",
   "name": "python",
   "nbconvert_exporter": "python",
   "pygments_lexer": "ipython3",
   "version": "3.13.2"
  }
 },
 "nbformat": 4,
 "nbformat_minor": 5
}
