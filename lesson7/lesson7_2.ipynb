{
 "cells": [
  {
   "cell_type": "code",
   "execution_count": 5,
   "id": "e0f0dbdf",
   "metadata": {},
   "outputs": [
    {
     "name": "stdout",
     "output_type": "stream",
     "text": [
      "Taiwan\n",
      "程式結束\n"
     ]
    }
   ],
   "source": [
    "#使用時機，不明確知道要執行幾次的迴圈\n",
    "#配合條件式if，並使用break停止迴圈\n",
    "\n",
    "while(True):\n",
    "    stuff = input(\"請輪入小寫英文字，會自動轉成大寫[按下q會離開]:\")\n",
    "    if stuff == 'q' or stuff == 'Q':\n",
    "        break\n",
    "    print(stuff.capitalize())\n",
    "print(\"程式結束\")\n"
   ]
  },
  {
   "cell_type": "code",
   "execution_count": null,
   "id": "6d2009ca",
   "metadata": {},
   "outputs": [
    {
     "name": "stdout",
     "output_type": "stream",
     "text": [
      "輸入的次數是6,所有輪入的正偶數的加總是:12\n"
     ]
    }
   ],
   "source": [
    "#請設計一個程式，讓使用者輸數值，只有加總正偶數值，不加總正奇數值，如果輸入負數，程式立刻結束。\n",
    "num = 0\n",
    "sum = 0\n",
    "while(True):  #True後一定會有break\n",
    "    input_value = int(input(f\"請輸入第{num}個數值\")\n",
    "    if input_value < 0:\n",
    "        break   #跳出的動作，較嚴格\n",
    "    num += 1\n",
    "    if input_value % 2 == 1:\n",
    "        continue\n",
    "    sum += input_value\n",
    "\n",
    "print(f\"輸入的次數是{num},所有輪入的正偶數的加總是:{sum}\")"
   ]
  },
  {
   "cell_type": "code",
   "execution_count": null,
   "id": "938d0f4d",
   "metadata": {},
   "outputs": [
    {
     "data": {
      "text/plain": [
       "3.141592653589793"
      ]
     },
     "execution_count": 10,
     "metadata": {},
     "output_type": "execute_result"
    }
   ],
   "source": [
    "import math\n",
    "\n",
    "math.pi #常數"
   ]
  },
  {
   "cell_type": "markdown",
   "id": "36c9327b",
   "metadata": {},
   "source": [
    "內建random的modul內的randint function，randint(a,b) a,b為參數，必需要有引數值"
   ]
  },
  {
   "cell_type": "markdown",
   "id": "1d6aaf4f",
   "metadata": {},
   "source": [
    "### 猜數字遊數"
   ]
  },
  {
   "cell_type": "code",
   "execution_count": 29,
   "id": "0025e585",
   "metadata": {},
   "outputs": [
    {
     "data": {
      "text/plain": [
       "74"
      ]
     },
     "execution_count": 29,
     "metadata": {},
     "output_type": "execute_result"
    }
   ],
   "source": [
    "import random\n",
    "\n",
    "guess_value = random.randint(1,100)  #前面一定要比後面小\n",
    "guess_value"
   ]
  },
  {
   "cell_type": "code",
   "execution_count": null,
   "id": "7c379772",
   "metadata": {},
   "outputs": [
    {
     "data": {
      "text/plain": [
       "3"
      ]
     },
     "execution_count": 20,
     "metadata": {},
     "output_type": "execute_result"
    }
   ],
   "source": [
    "import random\n",
    "\n",
    "random.randint(1,3) #利用AI找尋解決的方式；再利用說明書找使用方法"
   ]
  }
 ],
 "metadata": {
  "kernelspec": {
   "display_name": "base",
   "language": "python",
   "name": "python3"
  },
  "language_info": {
   "codemirror_mode": {
    "name": "ipython",
    "version": 3
   },
   "file_extension": ".py",
   "mimetype": "text/x-python",
   "name": "python",
   "nbconvert_exporter": "python",
   "pygments_lexer": "ipython3",
   "version": "3.13.2"
  }
 },
 "nbformat": 4,
 "nbformat_minor": 5
}
