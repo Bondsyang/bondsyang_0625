{
 "cells": [
  {
   "cell_type": "code",
   "execution_count": null,
   "id": "b9cf90f0",
   "metadata": {},
   "outputs": [],
   "source": [
    "try:\n",
    "    h = float(input(\"請輸入身高(120-250,cm):\"))\n",
    "    if not (120 <= h <= 250):\n",
    "        raise Exception(\"身高範圍120cm~250cm!!\")\n",
    "        \n",
    "    w = float(input(\"請輸入體重(30-200,kg):\"))\n",
    "    if not (30 <= w <= 200):\n",
    "        raise Exception(\"體重範圍30kg~200kg!!\")\n",
    "    \n",
    "    print(\"您的身高:\",h,\"cm\")\n",
    "    print(\"您的體重:\",w,\"kg\")    \n",
    "\n",
    "except ValueError as e:\n",
    "    print(\"格式錯誤\",e)\n",
    "except Exception as e:\n",
    "    print(e)\n",
    "\n",
    "else:\n",
    "    BMI = w / (h/100) ** 2\n",
    "    if BMI < 18.5:\n",
    "        print(\"您的BMI為:\",round(BMI,ndigits=1),\"體重過輕\")\n",
    "    elif 18.5 <= BMI < 24:\n",
    "        print(\"您的BMI為:\",round(BMI,ndigits=1),\"正常範圍\")\n",
    "    elif 24 <= BMI < 27:\n",
    "        print(\"您的BMI為:\",round(BMI,ndigits=1),\"過重\")\n",
    "    elif 27 <= BMI < 30:\n",
    "        print(\"您的BMI為:\",round(BMI,ndigits=1),\"輕度肥胖\")\n",
    "    elif 30 <= BMI < 35:\n",
    "        print(\"您的BMI為:\",round(BMI,ndigits=1),\"中度肥胖\")\n",
    "    elif BMI >= 35:\n",
    "        print(\"您的BMI為:\",round(BMI,ndigits=1),\"過度肥胖\")\n",
    "\n",
    "finally:\n",
    "    print(\"~應用程式結束~\")"
   ]
  },
  {
   "cell_type": "code",
   "execution_count": 2,
   "id": "4afa37bc",
   "metadata": {},
   "outputs": [
    {
     "name": "stdout",
     "output_type": "stream",
     "text": [
      "100 的因數： 1  2  4  5  10  20  25  50  100  "
     ]
    }
   ],
   "source": [
    "value = int(input(\"請輸入一整數：\"))\n",
    "print(f\"{value} 的因數：\",end=' ')\n",
    "\n",
    "factor = 1\n",
    "while (factor <= value):\n",
    "    if value % factor == 0:\n",
    "        print(factor,end='  ')\n",
    "    factor += 1"
   ]
  },
  {
   "cell_type": "code",
   "execution_count": null,
   "id": "9b8d86a1",
   "metadata": {},
   "outputs": [
    {
     "name": "stdout",
     "output_type": "stream",
     "text": [
      "10 及 100 的公因數： 1, 2, 5, 10, "
     ]
    }
   ],
   "source": [
    "value1 = int(input(\"請輸入第一個整數：\"))\n",
    "value2 = int(input(\"請輸入第二個整數：\"))\n",
    "print(f\"{value1} 及 {value2} 的公因數：\",end=' ')\n",
    "\n",
    "factor = 1\n",
    "#上面的程式都是ROOT程式區塊->只執行一次\n",
    "while (factor <= value1 and factor <= value2):\n",
    "    if value1 % factor == 0 and value2 % factor == 0:\n",
    "        print(factor,end=', ')\n",
    "    factor += 1"
   ]
  },
  {
   "cell_type": "code",
   "execution_count": null,
   "id": "c0748333",
   "metadata": {},
   "outputs": [],
   "source": []
  }
 ],
 "metadata": {
  "kernelspec": {
   "display_name": "base",
   "language": "python",
   "name": "python3"
  },
  "language_info": {
   "codemirror_mode": {
    "name": "ipython",
    "version": 3
   },
   "file_extension": ".py",
   "mimetype": "text/x-python",
   "name": "python",
   "nbconvert_exporter": "python",
   "pygments_lexer": "ipython3",
   "version": "3.13.2"
  }
 },
 "nbformat": 4,
 "nbformat_minor": 5
}
