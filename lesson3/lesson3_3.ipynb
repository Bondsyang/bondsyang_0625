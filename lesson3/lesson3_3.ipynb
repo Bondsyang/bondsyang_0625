{
 "cells": [
  {
   "cell_type": "code",
   "execution_count": null,
   "id": "82f664d4",
   "metadata": {},
   "outputs": [
    {
     "name": "stdout",
     "output_type": "stream",
     "text": [
      "梯氣的面積： 152.92\n"
     ]
    }
   ],
   "source": [
    "# 請輪入梯形的上底(公分)：5\n",
    "# 請輪入梯形的下底(公分)：10\n",
    "# 請輪入梯形的高(公分)：2\n",
    "\n",
    "top = float(input(\"請輸入上底(公分)\"))\n",
    "bottom = float(input(\"請輸入下底(公分)\"))\n",
    "height = float(input(\"請輸入高(公分)\"))\n",
    "\n",
    "area = (top + bottom) * height / 2   #\"/\"為浮點運算子\n",
    "print(\"梯氣的面積：\",round(area,ndigits=2))    #ndigits未輸入，預設值為又至整數"
   ]
  },
  {
   "cell_type": "code",
   "execution_count": 1,
   "id": "eb0b5898",
   "metadata": {},
   "outputs": [
    {
     "data": {
      "text/plain": [
       "100.0"
      ]
     },
     "execution_count": 1,
     "metadata": {},
     "output_type": "execute_result"
    }
   ],
   "source": [
    "value = input(\"請輸入一個數值：\") #只能有一個prompt(參數)，可傳出值，故為運算式\n",
    "type(value)\n",
    "value_float = float(value)\n",
    "value_float"
   ]
  },
  {
   "cell_type": "code",
   "execution_count": null,
   "id": "87b73799",
   "metadata": {},
   "outputs": [],
   "source": [
    "value = float(input(\"請輸入一個數值\"))"
   ]
  }
 ],
 "metadata": {
  "kernelspec": {
   "display_name": "base",
   "language": "python",
   "name": "python3"
  },
  "language_info": {
   "codemirror_mode": {
    "name": "ipython",
    "version": 3
   },
   "file_extension": ".py",
   "mimetype": "text/x-python",
   "name": "python",
   "nbconvert_exporter": "python",
   "pygments_lexer": "ipython3",
   "version": "3.13.2"
  }
 },
 "nbformat": 4,
 "nbformat_minor": 5
}
