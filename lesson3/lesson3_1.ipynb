{
 "cells": [
  {
   "cell_type": "code",
   "execution_count": 3,
   "id": "9b419d09",
   "metadata": {},
   "outputs": [
    {
     "data": {
      "text/plain": [
       "15.0"
      ]
     },
     "execution_count": 3,
     "metadata": {},
     "output_type": "execute_result"
    }
   ],
   "source": [
    "5 + 5.0\n",
    "5 + 5.0 + 5"
   ]
  },
  {
   "cell_type": "code",
   "execution_count": 5,
   "id": "2bcfc965",
   "metadata": {},
   "outputs": [
    {
     "data": {
      "text/plain": [
       "20"
      ]
     },
     "execution_count": 5,
     "metadata": {},
     "output_type": "execute_result"
    }
   ],
   "source": [
    "2 + 3 * 4\n",
    "(2+3) * 4"
   ]
  },
  {
   "cell_type": "markdown",
   "id": "2902095e",
   "metadata": {},
   "source": [
    "()內一先做\n",
    "次方\n",
    "*\n",
    "+ -\n",
    "#後面是註解"
   ]
  },
  {
   "cell_type": "code",
   "execution_count": 7,
   "id": "51a991ad",
   "metadata": {},
   "outputs": [
    {
     "data": {
      "text/plain": [
       "10"
      ]
     },
     "execution_count": 7,
     "metadata": {},
     "output_type": "execute_result"
    }
   ],
   "source": [
    "#運算式(expression)\n",
    "2 * (1 + 2) ** 2 - 2 ** 2 * 2"
   ]
  },
  {
   "cell_type": "code",
   "execution_count": null,
   "id": "c97a8289",
   "metadata": {},
   "outputs": [
    {
     "data": {
      "text/plain": [
       "10"
      ]
     },
     "execution_count": 9,
     "metadata": {},
     "output_type": "execute_result"
    }
   ],
   "source": [
    "2 + 3 * 4 #運算式\n",
    "(2+3) * 4 #運算式\n",
    "2 * (1 + 2) ** 2 - 2 ** 2 * 2 #運算式\n"
   ]
  },
  {
   "cell_type": "markdown",
   "id": "6ed37b6c",
   "metadata": {},
   "source": [
    "= 最後才做，NONE"
   ]
  },
  {
   "cell_type": "code",
   "execution_count": 18,
   "id": "c676a0cd",
   "metadata": {},
   "outputs": [
    {
     "name": "stdout",
     "output_type": "stream",
     "text": [
      "14\n",
      "20\n",
      "10\n"
     ]
    }
   ],
   "source": [
    "value1 = 2 + 3 * 4 #敘述式(不會傳出值->NONE)，建立一個變數\n",
    "value2 = (2+3) * 4 #敘述式\n",
    "value3 = 2 * (1 + 2) ** 2 - 2 ** 2 * 2 #敘述式\n",
    "print(value1) #敘述式，先做()裡的東西，再顯示()的值\n",
    "print(value2) #敘述式\n",
    "print(value3) #敘述式"
   ]
  }
 ],
 "metadata": {
  "kernelspec": {
   "display_name": "base",
   "language": "python",
   "name": "python3"
  },
  "language_info": {
   "codemirror_mode": {
    "name": "ipython",
    "version": 3
   },
   "file_extension": ".py",
   "mimetype": "text/x-python",
   "name": "python",
   "nbconvert_exporter": "python",
   "pygments_lexer": "ipython3",
   "version": "3.13.2"
  }
 },
 "nbformat": 4,
 "nbformat_minor": 5
}
