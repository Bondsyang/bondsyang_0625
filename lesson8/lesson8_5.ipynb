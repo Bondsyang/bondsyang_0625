{
 "cells": [
  {
   "cell_type": "code",
   "execution_count": null,
   "id": "2f7d0c41",
   "metadata": {},
   "outputs": [
    {
     "name": "stdout",
     "output_type": "stream",
     "text": [
      "Hello! 您好\n"
     ]
    }
   ],
   "source": [
    "#型別提示(type hint)\n",
    "def say_hello():\n",
    "    print(\"Hello! 您好\")\n",
    "\n",
    "say_hello()"
   ]
  },
  {
   "cell_type": "code",
   "execution_count": null,
   "id": "fbc51c27",
   "metadata": {},
   "outputs": [
    {
     "name": "stdout",
     "output_type": "stream",
     "text": [
      "Bonds! 您好\n"
     ]
    }
   ],
   "source": [
    "def say_hello(name:str): #type hint可有可無\n",
    "    print(f\"{name}! 您好\")\n",
    "\n",
    "say_hello(\"Bonds\")  #引述值帶入function的參數中"
   ]
  },
  {
   "cell_type": "code",
   "execution_count": 5,
   "id": "89d1d5dc",
   "metadata": {},
   "outputs": [
    {
     "name": "stdout",
     "output_type": "stream",
     "text": [
      "Bonds! 您好\n"
     ]
    }
   ],
   "source": [
    "def say_hello(name:str)->str: #字串\n",
    "    return f\"{name}! 您好\"\n",
    "\n",
    "print(say_hello(\"Bonds\"))  #引述值帶入function的參數中"
   ]
  },
  {
   "cell_type": "code",
   "execution_count": 6,
   "id": "e9260388",
   "metadata": {},
   "outputs": [],
   "source": [
    "name:str = \"robert\"\n",
    "age:int = 45"
   ]
  }
 ],
 "metadata": {
  "kernelspec": {
   "display_name": "base",
   "language": "python",
   "name": "python3"
  },
  "language_info": {
   "codemirror_mode": {
    "name": "ipython",
    "version": 3
   },
   "file_extension": ".py",
   "mimetype": "text/x-python",
   "name": "python",
   "nbconvert_exporter": "python",
   "pygments_lexer": "ipython3",
   "version": "3.13.2"
  }
 },
 "nbformat": 4,
 "nbformat_minor": 5
}
