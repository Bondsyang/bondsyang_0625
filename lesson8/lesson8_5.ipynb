{
 "cells": [
  {
   "cell_type": "code",
   "execution_count": 1,
   "id": "2f7d0c41",
   "metadata": {},
   "outputs": [
    {
     "name": "stdout",
     "output_type": "stream",
     "text": [
      "Hello! 您好\n"
     ]
    }
   ],
   "source": [
    "def say_hello():\n",
    "    print(\"Hello! 您好\")\n",
    "\n",
    "say_hello()"
   ]
  },
  {
   "cell_type": "code",
   "execution_count": null,
   "id": "fbc51c27",
   "metadata": {},
   "outputs": [
    {
     "name": "stdout",
     "output_type": "stream",
     "text": [
      "Bonds! 您好\n"
     ]
    }
   ],
   "source": [
    "def say_hello(name):\n",
    "    print(F\"{name}! 您好\")\n",
    "\n",
    "say_hello(\"Bonds\")  #引述值帶入function的參數中"
   ]
  }
 ],
 "metadata": {
  "kernelspec": {
   "display_name": "base",
   "language": "python",
   "name": "python3"
  },
  "language_info": {
   "codemirror_mode": {
    "name": "ipython",
    "version": 3
   },
   "file_extension": ".py",
   "mimetype": "text/x-python",
   "name": "python",
   "nbconvert_exporter": "python",
   "pygments_lexer": "ipython3",
   "version": "3.13.2"
  }
 },
 "nbformat": 4,
 "nbformat_minor": 5
}
